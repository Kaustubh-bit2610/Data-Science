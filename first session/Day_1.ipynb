{
 "cells": [
  {
   "cell_type": "code",
   "execution_count": 2,
   "id": "d2bc33e7-5e2f-4439-9890-3f1fb3d3e2c9",
   "metadata": {},
   "outputs": [
    {
     "name": "stdout",
     "output_type": "stream",
     "text": [
      "kaustubh\n"
     ]
    }
   ],
   "source": [
    "print (\"kaustubh\")"
   ]
  },
  {
   "cell_type": "code",
   "execution_count": 3,
   "id": "8abd16f6-7bfa-4e52-b979-bc0c5a893f61",
   "metadata": {},
   "outputs": [
    {
     "data": {
      "text/plain": [
       "49"
      ]
     },
     "execution_count": 3,
     "metadata": {},
     "output_type": "execute_result"
    }
   ],
   "source": [
    "10+39"
   ]
  },
  {
   "cell_type": "code",
   "execution_count": 4,
   "id": "e7afad82-b681-4820-801d-cfe6b2a76397",
   "metadata": {},
   "outputs": [
    {
     "data": {
      "text/plain": [
       "20"
      ]
     },
     "execution_count": 4,
     "metadata": {},
     "output_type": "execute_result"
    }
   ],
   "source": [
    "55-35"
   ]
  },
  {
   "cell_type": "code",
   "execution_count": 5,
   "id": "08c6fe6f-b099-4653-a193-8c4c796ea7ac",
   "metadata": {},
   "outputs": [
    {
     "data": {
      "text/plain": [
       "14.142857142857142"
      ]
     },
     "execution_count": 5,
     "metadata": {},
     "output_type": "execute_result"
    }
   ],
   "source": [
    "99/7"
   ]
  },
  {
   "cell_type": "code",
   "execution_count": 6,
   "id": "c89a2173-95a1-42b2-86f5-3f5bdc9df5dd",
   "metadata": {},
   "outputs": [
    {
     "data": {
      "text/plain": [
       "3564"
      ]
     },
     "execution_count": 6,
     "metadata": {},
     "output_type": "execute_result"
    }
   ],
   "source": [
    "99*36"
   ]
  },
  {
   "cell_type": "code",
   "execution_count": null,
   "id": "79b80325-c2b6-4a65-b209-13656d13b30f",
   "metadata": {},
   "outputs": [],
   "source": []
  }
 ],
 "metadata": {
  "kernelspec": {
   "display_name": "Python 3 (ipykernel)",
   "language": "python",
   "name": "python3"
  },
  "language_info": {
   "codemirror_mode": {
    "name": "ipython",
    "version": 3
   },
   "file_extension": ".py",
   "mimetype": "text/x-python",
   "name": "python",
   "nbconvert_exporter": "python",
   "pygments_lexer": "ipython3",
   "version": "3.12.4"
  }
 },
 "nbformat": 4,
 "nbformat_minor": 5
}
